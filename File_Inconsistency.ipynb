{
 "cells": [
  {
   "cell_type": "code",
   "execution_count": 1,
   "id": "49aa74fa-c66a-4663-9afd-90228a74ad1d",
   "metadata": {},
   "outputs": [
    {
     "name": "stdout",
     "output_type": "stream",
     "text": [
      "Directory does not exist: C:\\machine learning\\datasets\n",
      "All files are consistent.\n"
     ]
    }
   ],
   "source": [
    "import os\n",
    "\n",
    "def check_file(filename):\n",
    "    try:\n",
    "        with open(filename, 'r', encoding='utf-8') as f:\n",
    "            for line in f:\n",
    "                if len(line.split(',')) != 5:\n",
    "                    return False\n",
    "        return True\n",
    "    except Exception as e:\n",
    "        print(f\"Error reading file {filename}: {e}\")\n",
    "        return False\n",
    "\n",
    "def check_directory(path):\n",
    "    if not os.path.exists(path):\n",
    "        print(f\"Directory does not exist: {path}\")\n",
    "        return []\n",
    "    \n",
    "    inconsistent_files = []\n",
    "    for filename in os.listdir(path):\n",
    "        file_path = os.path.join(path, filename)\n",
    "        if not check_file(file_path):\n",
    "            inconsistent_files.append(filename)\n",
    "    return inconsistent_files\n",
    "\n",
    "def repair_file(filename):\n",
    "    try:\n",
    "        with open(filename, 'r', encoding='utf-8') as f:\n",
    "            lines = f.readlines()\n",
    "        with open(filename, 'w', encoding='utf-8') as f:\n",
    "            for line in lines:\n",
    "                if len(line.split(',')) == 5:\n",
    "                    f.write(line)\n",
    "    except Exception as e:\n",
    "        print(f\"Error repairing file {filename}: {e}\")\n",
    "\n",
    "if __name__ == \"__main__\":\n",
    "    directory_path = r\"C:\\machine learning\\datasets\"  # Replace with your actual directory path\n",
    "    inconsistent_files = check_directory(directory_path)\n",
    "\n",
    "    if inconsistent_files:\n",
    "        print(\"Inconsistent files found:\")\n",
    "        for filename in inconsistent_files:\n",
    "            print(filename)\n",
    "            repair_file(os.path.join(directory_path, filename))\n",
    "    else:\n",
    "        print(\"All files are consistent.\")\n"
   ]
  }
 ],
 "metadata": {
  "kernelspec": {
   "display_name": "Python 3 (ipykernel)",
   "language": "python",
   "name": "python3"
  },
  "language_info": {
   "codemirror_mode": {
    "name": "ipython",
    "version": 3
   },
   "file_extension": ".py",
   "mimetype": "text/x-python",
   "name": "python",
   "nbconvert_exporter": "python",
   "pygments_lexer": "ipython3",
   "version": "3.12.2"
  }
 },
 "nbformat": 4,
 "nbformat_minor": 5
}
